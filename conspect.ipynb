{
 "cells": [
  {
   "attachments": {},
   "cell_type": "markdown",
   "metadata": {},
   "source": [
    "В рекурсии обязьельно должен быть **Базовый случай**"
   ]
  },
  {
   "cell_type": "code",
   "execution_count": 4,
   "metadata": {},
   "outputs": [
    {
     "name": "stdout",
     "output_type": "stream",
     "text": [
      "[2, 4, 6, 8, 10]\n"
     ]
    }
   ],
   "source": [
    "\n",
    "def recurse_find_even(nums: list,result = []): #  Фунция должна возрощать список чётных чисел\n",
    "    \n",
    "    \n",
    "    if not nums: # Если список пустой\n",
    "        return # выходим\n",
    "    else:\n",
    "        first_element = nums[0]\n",
    "        if first_element % 2 == 0:\n",
    "            result.append(first_element)\n",
    "        recurse_find_even(nums[1:])\n",
    "        return result\n",
    "    \n",
    "print(recurse_find_even([1,2,3,4,5,6,7,8,9,10]))"
   ]
  }
 ],
 "metadata": {
  "kernelspec": {
   "display_name": "venv",
   "language": "python",
   "name": "python3"
  },
  "language_info": {
   "codemirror_mode": {
    "name": "ipython",
    "version": 3
   },
   "file_extension": ".py",
   "mimetype": "text/x-python",
   "name": "python",
   "nbconvert_exporter": "python",
   "pygments_lexer": "ipython3",
   "version": "3.11.2"
  },
  "orig_nbformat": 4
 },
 "nbformat": 4,
 "nbformat_minor": 2
}
