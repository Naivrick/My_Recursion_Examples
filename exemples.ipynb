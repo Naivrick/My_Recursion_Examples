{
 "cells": [
  {
   "cell_type": "code",
   "execution_count": 10,
   "metadata": {},
   "outputs": [
    {
     "name": "stdout",
     "output_type": "stream",
     "text": [
      "[2, 4, 6, 8, 10]\n"
     ]
    }
   ],
   "source": [
    "def recurse_find_even(nums: list,result = []): #  Функция должна возвращает список чётных чисел\n",
    "    \n",
    "    \n",
    "    if not nums: # Если список пустой\n",
    "        return # выходим\n",
    "    else:\n",
    "        first_element = nums[0]\n",
    "        if first_element % 2 == 0:\n",
    "            result.append(first_element)\n",
    "        recurse_find_even(nums[1:])\n",
    "        return result\n",
    "    \n",
    "print(recurse_find_even([1,2,3,4,5,6,7,8,9,10]))"
   ]
  },
  {
   "cell_type": "code",
   "execution_count": 1,
   "metadata": {},
   "outputs": [
    {
     "name": "stdout",
     "output_type": "stream",
     "text": [
      "функция а() вызвана\n",
      "функция b() вызвана\n",
      "функция c() вызвана\n",
      "функция c() продолжает работу\n",
      "функция b() продолжает работу\n",
      "функция a() продолжает работу\n",
      "['J']\n"
     ]
    }
   ],
   "source": [
    "def a():\n",
    "    print(\"функция а() вызвана\")\n",
    "    b()\n",
    "    print(\"функция a() продолжает работу\")\n",
    "\n",
    "def b():\n",
    "    print(\"функция b() вызвана\")\n",
    "    c()\n",
    "    print(\"функция b() продолжает работу\")\n",
    "\n",
    "def c():\n",
    "    print(\"функция c() вызвана\")\n",
    "    print(\"функция c() продолжает работу\")\n",
    "\n",
    "a()\n",
    "\n",
    "# %% [markdown]\n",
    "# Стек\n",
    "\n",
    "# %%\n",
    "# Демонстрация стека на примере list\n",
    "stack = []\n",
    " \n",
    "# append() как push\n",
    "stack.append('J')\n",
    "stack.append('Q')\n",
    "stack.pop()\n",
    "stack.append('K')\n",
    "stack.pop()\n",
    "print(stack)\n",
    "\n",
    "# print(\"Текущий 'стек'\")\n",
    "# print(stack)\n",
    " \n",
    "# # pop() как pop\n",
    "# print('\\nЭлементы покидают стек:')\n",
    "# print(stack.pop())\n",
    "# print(stack.pop())\n",
    "# print(stack.pop())\n",
    " \n",
    "# print('\\nПустой стек:')\n",
    "# print(stack)"
   ]
  },
  {
   "cell_type": "code",
   "execution_count": 12,
   "metadata": {},
   "outputs": [
    {
     "name": "stdout",
     "output_type": "stream",
     "text": [
      "Вызываем функцию с False\n",
      "Короткий тест с базовым случаем False вызван.\n",
      "Возвращение из базового случая.\n",
      "\n",
      "Вызываем функцию с True\n",
      "Короткий тест с базовым случаем True вызван.\n",
      "Вызов рекурсивной функции:\n",
      "Короткий тест с базовым случаем False вызван.\n",
      "Возвращение из базового случая.\n",
      "Возвращение из рекурсивного случая.\n"
     ]
    }
   ],
   "source": [
    "def shortestWithBaseCase(makeRecursiveCall): \n",
    "  print(f'Короткий тест с базовым случаем {makeRecursiveCall} вызван.')\n",
    "  if not makeRecursiveCall:\n",
    "    # БАЗОВЫЙ СЛУЧАЙ\n",
    "    print('Возвращение из базового случая.')\n",
    "  else:\n",
    "    # РЕКУРСИВНЫЙ СЛУЧАЙ\n",
    "    print(\"Вызов рекурсивной функции:\")\n",
    "    shortestWithBaseCase(False)\n",
    "    print('Возвращение из рекурсивного случая.')\n",
    "    return\n",
    "\n",
    "print(\"Вызываем функцию с False\")\n",
    "shortestWithBaseCase(False)\n",
    "print()\n",
    "print(\"Вызываем функцию с True\")\n",
    "shortestWithBaseCase(True)"
   ]
  },
  {
   "cell_type": "code",
   "execution_count": 13,
   "metadata": {},
   "outputs": [
    {
     "name": "stdout",
     "output_type": "stream",
     "text": [
      "Текущие число: 3\n",
      "Текущие число: 2\n",
      "Текущие число: 1\n",
      "Текущие число: 0\n",
      "Дошли до базового случая\n",
      "Возращение 1\n",
      "Возращение 2\n",
      "Возращение 3\n"
     ]
    }
   ],
   "source": [
    "def countDownAndUp(number):\n",
    "    print(f\"Текущие число: {number}\")\n",
    "    if number == 0:\n",
    "        #БАЗОВЫЙ СЛУЧАЙ\n",
    "        print(f\"Дошли до базового случая\")\n",
    "        return\n",
    "    else:\n",
    "        #РЕКУРСИВНЫЙ СЛУЧАЙ\n",
    "        countDownAndUp(number - 1)\n",
    "        print(f\"Возращение {number}\")\n",
    "        return\n",
    "    \n",
    "countDownAndUp(3)"
   ]
  },
  {
   "cell_type": "code",
   "execution_count": 14,
   "metadata": {},
   "outputs": [
    {
     "name": "stdout",
     "output_type": "stream",
     "text": [
      "3628800\n"
     ]
    }
   ],
   "source": [
    "def factorial(number):\n",
    "    product = 1\n",
    "    for i in range(1, number + 1):\n",
    "        product *= i\n",
    "    return product\n",
    "\n",
    "print(factorial(10))"
   ]
  },
  {
   "cell_type": "code",
   "execution_count": 15,
   "metadata": {},
   "outputs": [
    {
     "name": "stdout",
     "output_type": "stream",
     "text": [
      "120\n"
     ]
    }
   ],
   "source": [
    "def factorial(number):\n",
    "    if number == 1:\n",
    "        # БАЗОВЫЙ СЛУЧАЙ\n",
    "        return 1\n",
    "    else:\n",
    "        # РЕКУРСИВНЫЙ СЛУЧАЙ\n",
    "        return number * factorial(number - 1)\n",
    "    \n",
    "print(factorial(5))"
   ]
  },
  {
   "cell_type": "code",
   "execution_count": 16,
   "metadata": {},
   "outputs": [
    {
     "name": "stdout",
     "output_type": "stream",
     "text": [
      "a = 1, b = 1\n",
      "a = 1, b = 2\n",
      "a = 2, b = 3\n",
      "a = 3, b = 5\n",
      "a = 5, b = 8\n",
      "a = 8, b = 13\n",
      "a = 13, b = 21\n",
      "a = 21, b = 34\n",
      "a = 34, b = 55\n",
      "a = 55, b = 89\n",
      "55\n"
     ]
    }
   ],
   "source": [
    "def fibonacci(nthNumber):\n",
    "    a,b = 1,1\n",
    "    print(f\"a = {a}, b = {b}\")\n",
    "    for i in range(1, nthNumber):\n",
    "        a,b = b, a + b # Получение следующего числа Фибоначчи\n",
    "        print(f\"a = {a}, b = {b}\")\n",
    "    return a\n",
    "\n",
    "print(fibonacci(10))"
   ]
  },
  {
   "cell_type": "code",
   "execution_count": 17,
   "metadata": {},
   "outputs": [
    {
     "name": "stdout",
     "output_type": "stream",
     "text": [
      "fibonacci 10 called\n",
      "Calling fibonacci(9) and fibonacci(8)\n",
      "fibonacci 9 called\n",
      "Calling fibonacci(8) and fibonacci(7)\n",
      "fibonacci 8 called\n",
      "Calling fibonacci(7) and fibonacci(6)\n",
      "fibonacci 7 called\n",
      "Calling fibonacci(6) and fibonacci(5)\n",
      "fibonacci 6 called\n",
      "Calling fibonacci(5) and fibonacci(4)\n",
      "fibonacci 5 called\n",
      "Calling fibonacci(4) and fibonacci(3)\n",
      "fibonacci 4 called\n",
      "Calling fibonacci(3) and fibonacci(2)\n",
      "fibonacci 3 called\n",
      "Calling fibonacci(2) and fibonacci(1)\n",
      "fibonacci 2 called\n",
      "Call ro fibonacci 2 returning 1\n",
      "fibonacci 1 called\n",
      "Call ro fibonacci 1 returning 1\n",
      "Call to fibonacci 3 returning 2\n",
      "fibonacci 2 called\n",
      "Call ro fibonacci 2 returning 1\n",
      "Call to fibonacci 4 returning 3\n",
      "fibonacci 3 called\n",
      "Calling fibonacci(2) and fibonacci(1)\n",
      "fibonacci 2 called\n",
      "Call ro fibonacci 2 returning 1\n",
      "fibonacci 1 called\n",
      "Call ro fibonacci 1 returning 1\n",
      "Call to fibonacci 3 returning 2\n",
      "Call to fibonacci 5 returning 5\n",
      "fibonacci 4 called\n",
      "Calling fibonacci(3) and fibonacci(2)\n",
      "fibonacci 3 called\n",
      "Calling fibonacci(2) and fibonacci(1)\n",
      "fibonacci 2 called\n",
      "Call ro fibonacci 2 returning 1\n",
      "fibonacci 1 called\n",
      "Call ro fibonacci 1 returning 1\n",
      "Call to fibonacci 3 returning 2\n",
      "fibonacci 2 called\n",
      "Call ro fibonacci 2 returning 1\n",
      "Call to fibonacci 4 returning 3\n",
      "Call to fibonacci 6 returning 8\n",
      "fibonacci 5 called\n",
      "Calling fibonacci(4) and fibonacci(3)\n",
      "fibonacci 4 called\n",
      "Calling fibonacci(3) and fibonacci(2)\n",
      "fibonacci 3 called\n",
      "Calling fibonacci(2) and fibonacci(1)\n",
      "fibonacci 2 called\n",
      "Call ro fibonacci 2 returning 1\n",
      "fibonacci 1 called\n",
      "Call ro fibonacci 1 returning 1\n",
      "Call to fibonacci 3 returning 2\n",
      "fibonacci 2 called\n",
      "Call ro fibonacci 2 returning 1\n",
      "Call to fibonacci 4 returning 3\n",
      "fibonacci 3 called\n",
      "Calling fibonacci(2) and fibonacci(1)\n",
      "fibonacci 2 called\n",
      "Call ro fibonacci 2 returning 1\n",
      "fibonacci 1 called\n",
      "Call ro fibonacci 1 returning 1\n",
      "Call to fibonacci 3 returning 2\n",
      "Call to fibonacci 5 returning 5\n",
      "Call to fibonacci 7 returning 13\n",
      "fibonacci 6 called\n",
      "Calling fibonacci(5) and fibonacci(4)\n",
      "fibonacci 5 called\n",
      "Calling fibonacci(4) and fibonacci(3)\n",
      "fibonacci 4 called\n",
      "Calling fibonacci(3) and fibonacci(2)\n",
      "fibonacci 3 called\n",
      "Calling fibonacci(2) and fibonacci(1)\n",
      "fibonacci 2 called\n",
      "Call ro fibonacci 2 returning 1\n",
      "fibonacci 1 called\n",
      "Call ro fibonacci 1 returning 1\n",
      "Call to fibonacci 3 returning 2\n",
      "fibonacci 2 called\n",
      "Call ro fibonacci 2 returning 1\n",
      "Call to fibonacci 4 returning 3\n",
      "fibonacci 3 called\n",
      "Calling fibonacci(2) and fibonacci(1)\n",
      "fibonacci 2 called\n",
      "Call ro fibonacci 2 returning 1\n",
      "fibonacci 1 called\n",
      "Call ro fibonacci 1 returning 1\n",
      "Call to fibonacci 3 returning 2\n",
      "Call to fibonacci 5 returning 5\n",
      "fibonacci 4 called\n",
      "Calling fibonacci(3) and fibonacci(2)\n",
      "fibonacci 3 called\n",
      "Calling fibonacci(2) and fibonacci(1)\n",
      "fibonacci 2 called\n",
      "Call ro fibonacci 2 returning 1\n",
      "fibonacci 1 called\n",
      "Call ro fibonacci 1 returning 1\n",
      "Call to fibonacci 3 returning 2\n",
      "fibonacci 2 called\n",
      "Call ro fibonacci 2 returning 1\n",
      "Call to fibonacci 4 returning 3\n",
      "Call to fibonacci 6 returning 8\n",
      "Call to fibonacci 8 returning 21\n",
      "fibonacci 7 called\n",
      "Calling fibonacci(6) and fibonacci(5)\n",
      "fibonacci 6 called\n",
      "Calling fibonacci(5) and fibonacci(4)\n",
      "fibonacci 5 called\n",
      "Calling fibonacci(4) and fibonacci(3)\n",
      "fibonacci 4 called\n",
      "Calling fibonacci(3) and fibonacci(2)\n",
      "fibonacci 3 called\n",
      "Calling fibonacci(2) and fibonacci(1)\n",
      "fibonacci 2 called\n",
      "Call ro fibonacci 2 returning 1\n",
      "fibonacci 1 called\n",
      "Call ro fibonacci 1 returning 1\n",
      "Call to fibonacci 3 returning 2\n",
      "fibonacci 2 called\n",
      "Call ro fibonacci 2 returning 1\n",
      "Call to fibonacci 4 returning 3\n",
      "fibonacci 3 called\n",
      "Calling fibonacci(2) and fibonacci(1)\n",
      "fibonacci 2 called\n",
      "Call ro fibonacci 2 returning 1\n",
      "fibonacci 1 called\n",
      "Call ro fibonacci 1 returning 1\n",
      "Call to fibonacci 3 returning 2\n",
      "Call to fibonacci 5 returning 5\n",
      "fibonacci 4 called\n",
      "Calling fibonacci(3) and fibonacci(2)\n",
      "fibonacci 3 called\n",
      "Calling fibonacci(2) and fibonacci(1)\n",
      "fibonacci 2 called\n",
      "Call ro fibonacci 2 returning 1\n",
      "fibonacci 1 called\n",
      "Call ro fibonacci 1 returning 1\n",
      "Call to fibonacci 3 returning 2\n",
      "fibonacci 2 called\n",
      "Call ro fibonacci 2 returning 1\n",
      "Call to fibonacci 4 returning 3\n",
      "Call to fibonacci 6 returning 8\n",
      "fibonacci 5 called\n",
      "Calling fibonacci(4) and fibonacci(3)\n",
      "fibonacci 4 called\n",
      "Calling fibonacci(3) and fibonacci(2)\n",
      "fibonacci 3 called\n",
      "Calling fibonacci(2) and fibonacci(1)\n",
      "fibonacci 2 called\n",
      "Call ro fibonacci 2 returning 1\n",
      "fibonacci 1 called\n",
      "Call ro fibonacci 1 returning 1\n",
      "Call to fibonacci 3 returning 2\n",
      "fibonacci 2 called\n",
      "Call ro fibonacci 2 returning 1\n",
      "Call to fibonacci 4 returning 3\n",
      "fibonacci 3 called\n",
      "Calling fibonacci(2) and fibonacci(1)\n",
      "fibonacci 2 called\n",
      "Call ro fibonacci 2 returning 1\n",
      "fibonacci 1 called\n",
      "Call ro fibonacci 1 returning 1\n",
      "Call to fibonacci 3 returning 2\n",
      "Call to fibonacci 5 returning 5\n",
      "Call to fibonacci 7 returning 13\n",
      "Call to fibonacci 9 returning 34\n",
      "fibonacci 8 called\n",
      "Calling fibonacci(7) and fibonacci(6)\n",
      "fibonacci 7 called\n",
      "Calling fibonacci(6) and fibonacci(5)\n",
      "fibonacci 6 called\n",
      "Calling fibonacci(5) and fibonacci(4)\n",
      "fibonacci 5 called\n",
      "Calling fibonacci(4) and fibonacci(3)\n",
      "fibonacci 4 called\n",
      "Calling fibonacci(3) and fibonacci(2)\n",
      "fibonacci 3 called\n",
      "Calling fibonacci(2) and fibonacci(1)\n",
      "fibonacci 2 called\n",
      "Call ro fibonacci 2 returning 1\n",
      "fibonacci 1 called\n",
      "Call ro fibonacci 1 returning 1\n",
      "Call to fibonacci 3 returning 2\n",
      "fibonacci 2 called\n",
      "Call ro fibonacci 2 returning 1\n",
      "Call to fibonacci 4 returning 3\n",
      "fibonacci 3 called\n",
      "Calling fibonacci(2) and fibonacci(1)\n",
      "fibonacci 2 called\n",
      "Call ro fibonacci 2 returning 1\n",
      "fibonacci 1 called\n",
      "Call ro fibonacci 1 returning 1\n",
      "Call to fibonacci 3 returning 2\n",
      "Call to fibonacci 5 returning 5\n",
      "fibonacci 4 called\n",
      "Calling fibonacci(3) and fibonacci(2)\n",
      "fibonacci 3 called\n",
      "Calling fibonacci(2) and fibonacci(1)\n",
      "fibonacci 2 called\n",
      "Call ro fibonacci 2 returning 1\n",
      "fibonacci 1 called\n",
      "Call ro fibonacci 1 returning 1\n",
      "Call to fibonacci 3 returning 2\n",
      "fibonacci 2 called\n",
      "Call ro fibonacci 2 returning 1\n",
      "Call to fibonacci 4 returning 3\n",
      "Call to fibonacci 6 returning 8\n",
      "fibonacci 5 called\n",
      "Calling fibonacci(4) and fibonacci(3)\n",
      "fibonacci 4 called\n",
      "Calling fibonacci(3) and fibonacci(2)\n",
      "fibonacci 3 called\n",
      "Calling fibonacci(2) and fibonacci(1)\n",
      "fibonacci 2 called\n",
      "Call ro fibonacci 2 returning 1\n",
      "fibonacci 1 called\n",
      "Call ro fibonacci 1 returning 1\n",
      "Call to fibonacci 3 returning 2\n",
      "fibonacci 2 called\n",
      "Call ro fibonacci 2 returning 1\n",
      "Call to fibonacci 4 returning 3\n",
      "fibonacci 3 called\n",
      "Calling fibonacci(2) and fibonacci(1)\n",
      "fibonacci 2 called\n",
      "Call ro fibonacci 2 returning 1\n",
      "fibonacci 1 called\n",
      "Call ro fibonacci 1 returning 1\n",
      "Call to fibonacci 3 returning 2\n",
      "Call to fibonacci 5 returning 5\n",
      "Call to fibonacci 7 returning 13\n",
      "fibonacci 6 called\n",
      "Calling fibonacci(5) and fibonacci(4)\n",
      "fibonacci 5 called\n",
      "Calling fibonacci(4) and fibonacci(3)\n",
      "fibonacci 4 called\n",
      "Calling fibonacci(3) and fibonacci(2)\n",
      "fibonacci 3 called\n",
      "Calling fibonacci(2) and fibonacci(1)\n",
      "fibonacci 2 called\n",
      "Call ro fibonacci 2 returning 1\n",
      "fibonacci 1 called\n",
      "Call ro fibonacci 1 returning 1\n",
      "Call to fibonacci 3 returning 2\n",
      "fibonacci 2 called\n",
      "Call ro fibonacci 2 returning 1\n",
      "Call to fibonacci 4 returning 3\n",
      "fibonacci 3 called\n",
      "Calling fibonacci(2) and fibonacci(1)\n",
      "fibonacci 2 called\n",
      "Call ro fibonacci 2 returning 1\n",
      "fibonacci 1 called\n",
      "Call ro fibonacci 1 returning 1\n",
      "Call to fibonacci 3 returning 2\n",
      "Call to fibonacci 5 returning 5\n",
      "fibonacci 4 called\n",
      "Calling fibonacci(3) and fibonacci(2)\n",
      "fibonacci 3 called\n",
      "Calling fibonacci(2) and fibonacci(1)\n",
      "fibonacci 2 called\n",
      "Call ro fibonacci 2 returning 1\n",
      "fibonacci 1 called\n",
      "Call ro fibonacci 1 returning 1\n",
      "Call to fibonacci 3 returning 2\n",
      "fibonacci 2 called\n",
      "Call ro fibonacci 2 returning 1\n",
      "Call to fibonacci 4 returning 3\n",
      "Call to fibonacci 6 returning 8\n",
      "Call to fibonacci 8 returning 21\n",
      "Call to fibonacci 10 returning 55\n",
      "55\n"
     ]
    }
   ],
   "source": [
    "def fibonacci(nthNumber):\n",
    "    print(f\"fibonacci {nthNumber} called\")\n",
    "    if nthNumber == 1 or nthNumber == 2:\n",
    "        #Базовый случай\n",
    "        print(f\"Call ro fibonacci {nthNumber} returning 1\")\n",
    "        return 1\n",
    "    else:\n",
    "        #Рекурсивный случай\n",
    "        print(f\"Calling fibonacci({nthNumber - 1}) and fibonacci({nthNumber - 2})\")\n",
    "        result = fibonacci(nthNumber - 1) + fibonacci(nthNumber - 2)\n",
    "        print(f\"Call to fibonacci {nthNumber} returning {result}\")\n",
    "        return result\n",
    "\n",
    "print(fibonacci(10))"
   ]
  },
  {
   "cell_type": "code",
   "execution_count": 18,
   "metadata": {},
   "outputs": [
    {
     "name": "stdout",
     "output_type": "stream",
     "text": [
      "120\n"
     ]
    }
   ],
   "source": [
    "callStack = [] # Явный стек вызовов, содержащий кадры\n",
    "callStack.append({'returnAddr' : 'start', 'number' : 5})\n",
    "# Вызов функции factorial()\n",
    "returnValue = None\n",
    "\n",
    "while len(callStack) > 0:\n",
    "    # Тело \"Функции factorial():\"\n",
    "    number = callStack[-1]['number'] # Задание числового параметра\n",
    "    returnAddr = callStack[-1]['returnAddr']\n",
    "\n",
    "    if returnAddr == 'start':\n",
    "        if number == 1:\n",
    "            # Базовый случай\n",
    "            returnValue = 1\n",
    "            callStack.pop() # Возврат из функции\n",
    "            continue\n",
    "        else:\n",
    "            # Рекурсивный случай\n",
    "            callStack[-1]['returnAddr'] = 'after recursive call'\n",
    "            # Вызов функции factorial():\n",
    "            callStack.append({'returnAddr' : 'start', 'number' : number - 1})\n",
    "            continue\n",
    "    elif returnAddr == 'after recursive call':\n",
    "        returnValue = number * returnValue\n",
    "        callStack.pop() # Возврат из вызова функции\n",
    "        continue\n",
    "    \n",
    "print(returnValue)"
   ]
  },
  {
   "cell_type": "code",
   "execution_count": 19,
   "metadata": {},
   "outputs": [
    {
     "name": "stdout",
     "output_type": "stream",
     "text": [
      "Цикл: \n",
      "0 Hello world\n",
      "1 Hello world\n",
      "2 Hello world\n",
      "3 Hello world\n",
      "4 Hello world\n",
      "5 Hello world\n",
      "Рекурсия:\n",
      "0 Hello world\n",
      "1 Hello world\n",
      "2 Hello world\n",
      "3 Hello world\n",
      "4 Hello world\n",
      "5 Hello world\n"
     ]
    }
   ],
   "source": [
    "print(\"Цикл: \")\n",
    "i = 0\n",
    "while i <= 5:\n",
    "    print(i, 'Hello world')\n",
    "    i += 1\n",
    "\n",
    "print('Рекурсия:')\n",
    "def hello(i = 0):\n",
    "    print(i, 'Hello world')\n",
    "    if i < 5:\n",
    "        hello(i+1)\n",
    "    else:\n",
    "        return\n",
    "\n",
    "hello()"
   ]
  },
  {
   "cell_type": "code",
   "execution_count": 20,
   "metadata": {},
   "outputs": [
    {
     "name": "stdout",
     "output_type": "stream",
     "text": [
      "3\n",
      "3\n"
     ]
    }
   ],
   "source": [
    "def findSubstringIterative(needle, haystack):\n",
    "    i = 0\n",
    "    while i < len(haystack):\n",
    "        if haystack[i: i + len(needle)] == needle:\n",
    "            return i # Игла найдена\n",
    "        i += 1\n",
    "    return -1 # Игла не найдена\n",
    "\n",
    "def findSubstringRecursive(needle, haystack, i=0):\n",
    "    if i > len(haystack):\n",
    "        return -1 #Базовый случай (игла не найдена)\n",
    "    if haystack[i:i+len(needle)] == needle:\n",
    "        return i # Базовый случай (игла найдена)\n",
    "    else:\n",
    "        # рек случай\n",
    "        return findSubstringRecursive(needle, haystack, i + 1)\n",
    "\n",
    "print(findSubstringRecursive('cat', 'my cat bad'))\n",
    "print(findSubstringIterative('cat', 'my cat bad'))"
   ]
  },
  {
   "cell_type": "code",
   "execution_count": 21,
   "metadata": {},
   "outputs": [
    {
     "name": "stdout",
     "output_type": "stream",
     "text": [
      "729\n",
      "1000\n",
      "8193465725814765556554001028792218849\n"
     ]
    }
   ],
   "source": [
    "def exponentByIteration(a,n):\n",
    "    res = 1\n",
    "    for i in range(n):\n",
    "        res *= a\n",
    "    return res\n",
    "\n",
    "print(exponentByIteration(3,6))\n",
    "print(exponentByIteration(10,3))\n",
    "print(exponentByIteration(17,30))"
   ]
  },
  {
   "cell_type": "code",
   "execution_count": 22,
   "metadata": {},
   "outputs": [
    {
     "name": "stdout",
     "output_type": "stream",
     "text": [
      "729\n",
      "1000\n",
      "8193465725814765556554001028792218849\n"
     ]
    }
   ],
   "source": [
    "def exponentByRecursion(a,n):\n",
    "    if n == 1:\n",
    "        # базовый случай\n",
    "        return a\n",
    "    elif n % 2 == 0:\n",
    "        # рекурсивный случай\n",
    "        result = exponentByRecursion(a,n // 2)\n",
    "        return result * result\n",
    "    elif n % 2 == 1:\n",
    "        # рекурсивный случай\n",
    "        result = exponentByRecursion(a,n // 2)\n",
    "        return result * result * a\n",
    "\n",
    "print(exponentByRecursion(3,6))\n",
    "print(exponentByRecursion(10,3))\n",
    "print(exponentByRecursion(17,30))"
   ]
  },
  {
   "cell_type": "code",
   "execution_count": 25,
   "metadata": {},
   "outputs": [
    {
     "name": "stdout",
     "output_type": "stream",
     "text": [
      "1000\n",
      "8193465725814765556554001028792218849\n",
      "729\n"
     ]
    }
   ],
   "source": [
    "def exponentWithPowerRule(a,n):\n",
    "    # 1 этап: определение операций, которые предстоит выполнить\n",
    "    opStack = []\n",
    "    while n > 1:\n",
    "        if n % 2 == 0:\n",
    "            # Число n четное\n",
    "            opStack.append('square')\n",
    "            n = n // 2\n",
    "        elif n % 2 == 1:\n",
    "            # Число n нечетное\n",
    "            n -= 1\n",
    "            opStack.append('multiply')\n",
    "    # 2 этап: выполнение операций в обратном порядке \n",
    "    result = a # Задание для result начального значения 'a'\n",
    "    while opStack:\n",
    "        op = opStack.pop()\n",
    "        if op == 'multiply':\n",
    "            result *= a\n",
    "        elif op == 'square':\n",
    "            result *= result\n",
    "    return result\n",
    "\n",
    "print(exponentWithPowerRule(10,3))\n",
    "print(exponentWithPowerRule(17,30))\n",
    "print(exponentWithPowerRule(3,6))"
   ]
  },
  {
   "attachments": {},
   "cell_type": "markdown",
   "metadata": {},
   "source": [
    "## Реализация <голова - хвост>"
   ]
  },
  {
   "cell_type": "code",
   "execution_count": 1,
   "metadata": {},
   "outputs": [
    {
     "name": "stdout",
     "output_type": "stream",
     "text": [
      "45\n",
      "10\n",
      "111111\n"
     ]
    }
   ],
   "source": [
    "def sum_nums(numbers: list) -> int:\n",
    "    if len(numbers) == 0: # Базовый случай\n",
    "        return 0\n",
    "    else: # Рекурсивный случай\n",
    "        head = numbers[0]\n",
    "        tail = numbers[1:]\n",
    "        return head + sum(tail)\n",
    "    \n",
    "print(sum_nums([1,2,3,4,5,6,7,8,9]))\n",
    "print(sum_nums([5,5]))\n",
    "print(sum_nums([1,10,100,1000,10_000, 100_000]))"
   ]
  },
  {
   "cell_type": "code",
   "execution_count": 33,
   "metadata": {},
   "outputs": [
    {
     "name": "stdout",
     "output_type": "stream",
     "text": [
      "H*e*l*l*o\n",
      "\u001b[31m\u001b[5m Неверный тип данных!\n"
     ]
    }
   ],
   "source": [
    "def concat(words: list[str], separator = '') -> str:\n",
    "    #words = [str(word) for word in words]\n",
    "    try:\n",
    "        if len(words) == 0: # базовый случай\n",
    "            return ''\n",
    "        else: # рекурсивный случай\n",
    "            head = words[0]\n",
    "            tail = words[1:]\n",
    "            return head + separator + concat(tail, separator=separator if len(tail) > 1 else '')\n",
    "    except TypeError:\n",
    "        return f\"\\033[31m\\033[5m {'Неверный тип данных!'}\"\n",
    "    \n",
    "print(concat(['H','e','l','l','o',], separator='*'))\n",
    "print(concat([1,2,3,4,5], separator='*'))\n"
   ]
  },
  {
   "cell_type": "code",
   "execution_count": 2,
   "metadata": {},
   "outputs": [
    {
     "name": "stdout",
     "output_type": "stream",
     "text": [
      "fedcba\n",
      "!dlrow olleh\n",
      "\n",
      "x\n",
      "Tac\n"
     ]
    }
   ],
   "source": [
    "def rev(theString):\n",
    "    if len(theString) <= 1:\n",
    "        return theString\n",
    "    else:\n",
    "        head = theString[0]\n",
    "        tail = theString[1:]\n",
    "        return rev(tail) + head\n",
    "\n",
    "print(rev('abcdef'))\n",
    "print(rev('Hello world!'))\n",
    "print(rev(''))\n",
    "print(rev('x'))\n",
    "print(rev('CAT'))\n"
   ]
  },
  {
   "cell_type": "code",
   "execution_count": 6,
   "metadata": {},
   "outputs": [
    {
     "name": "stdout",
     "output_type": "stream",
     "text": [
      "False\n",
      "True\n",
      "True\n",
      "False\n"
     ]
    }
   ],
   "source": [
    "def isPalindrome(word):\n",
    "    if len(word) <= 1:\n",
    "        return True\n",
    "    return word[0] == word[-1] and isPalindrome(word[1:-1])\n",
    "\n",
    "lst = ['OK','OKO']\n",
    "\n",
    "for word in lst:\n",
    "    print(isPalindrome(word=word))"
   ]
  }
 ],
 "metadata": {
  "kernelspec": {
   "display_name": "venv",
   "language": "python",
   "name": "python3"
  },
  "language_info": {
   "codemirror_mode": {
    "name": "ipython",
    "version": 3
   },
   "file_extension": ".py",
   "mimetype": "text/x-python",
   "name": "python",
   "nbconvert_exporter": "python",
   "pygments_lexer": "ipython3",
   "version": "3.11.2"
  },
  "orig_nbformat": 4
 },
 "nbformat": 4,
 "nbformat_minor": 2
}
